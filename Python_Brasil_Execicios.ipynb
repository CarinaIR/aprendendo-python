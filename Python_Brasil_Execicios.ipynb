{
  "nbformat": 4,
  "nbformat_minor": 0,
  "metadata": {
    "colab": {
      "name": "Python-Brasil-Execicios.ipynb",
      "provenance": [],
      "toc_visible": true,
      "authorship_tag": "ABX9TyNHen4oxTxsvyAmRv0yoHDF",
      "include_colab_link": true
    },
    "kernelspec": {
      "name": "python3",
      "display_name": "Python 3"
    },
    "language_info": {
      "name": "python"
    }
  },
  "cells": [
    {
      "cell_type": "markdown",
      "metadata": {
        "id": "view-in-github",
        "colab_type": "text"
      },
      "source": [
        "<a href=\"https://colab.research.google.com/github/CarinaIR/aprendendo-python/blob/main/Python_Brasil_Execicios.ipynb\" target=\"_parent\"><img src=\"https://colab.research.google.com/assets/colab-badge.svg\" alt=\"Open In Colab\"/></a>"
      ]
    },
    {
      "cell_type": "markdown",
      "source": [
        "# Estrutura Sequncial"
      ],
      "metadata": {
        "id": "eVeF2jSZyA5H"
      }
    },
    {
      "cell_type": "markdown",
      "source": [
        "1. Faça um Programa que mostre a mensagem \"Alo mundo\" na tela."
      ],
      "metadata": {
        "id": "4_ECBpqxyOpq"
      }
    },
    {
      "cell_type": "code",
      "source": [
        "print(\"Alo mundo\")"
      ],
      "metadata": {
        "colab": {
          "base_uri": "https://localhost:8080/"
        },
        "id": "rd5eiAcQyWBU",
        "outputId": "1575904d-644c-4043-9655-f394706e9934"
      },
      "execution_count": 2,
      "outputs": [
        {
          "output_type": "stream",
          "name": "stdout",
          "text": [
            "Alo mundo\n"
          ]
        }
      ]
    },
    {
      "cell_type": "markdown",
      "source": [
        "2. Faça um Programa que peça um número e então mostre a mensagem O número informado foi [número]."
      ],
      "metadata": {
        "id": "jPmXEs-2y5bC"
      }
    },
    {
      "cell_type": "code",
      "source": [
        "# Variavel n recebendo o numero digitado pelo usuario.\n",
        "n = float(input('Digite um número: '))\n",
        "# Mostrando a mensagem para o usuário.\n",
        "print('O número informado foi:', n)"
      ],
      "metadata": {
        "colab": {
          "base_uri": "https://localhost:8080/"
        },
        "id": "8C7WhLHYy-33",
        "outputId": "ad699dba-9007-4971-a980-19ff75c22590"
      },
      "execution_count": 11,
      "outputs": [
        {
          "output_type": "stream",
          "name": "stdout",
          "text": [
            "Digite um número: 1.938\n",
            "O número informado foi: 1.938\n"
          ]
        }
      ]
    },
    {
      "cell_type": "markdown",
      "source": [
        "3. Faça um Programa que peça dois números e imprima a soma."
      ],
      "metadata": {
        "id": "kJ5uzaEu2q4J"
      }
    },
    {
      "cell_type": "code",
      "source": [
        "# Recebendo o primeiro numero\n",
        "numero1 = float(input(\"Digite o primeiro numero: \"))\n",
        "# Recebendo o segundo numero\n",
        "numero2 = float(input(\"Digite o segundo numero: \"))\n",
        "# Somando o numero1 com o numero2\n",
        "soma = numero1 + numero2\n",
        "# Imprimindo a soma\n",
        "print(soma)"
      ],
      "metadata": {
        "colab": {
          "base_uri": "https://localhost:8080/"
        },
        "id": "04d5fM315cU4",
        "outputId": "5e59ca22-5e47-46c6-c43d-0cbbe6850c1c"
      },
      "execution_count": 12,
      "outputs": [
        {
          "output_type": "stream",
          "name": "stdout",
          "text": [
            "Digite o primeiro numero: 5\n",
            "Digite o segundo numero: 7\n",
            "12.0\n"
          ]
        }
      ]
    }
  ]
}