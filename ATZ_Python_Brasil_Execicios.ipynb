{
  "nbformat": 4,
  "nbformat_minor": 0,
  "metadata": {
    "colab": {
      "provenance": [],
      "toc_visible": true,
      "authorship_tag": "ABX9TyNBFIiw1eoQvcgRJE1AWwXI",
      "include_colab_link": true
    },
    "kernelspec": {
      "name": "python3",
      "display_name": "Python 3"
    },
    "language_info": {
      "name": "python"
    }
  },
  "cells": [
    {
      "cell_type": "markdown",
      "metadata": {
        "id": "view-in-github",
        "colab_type": "text"
      },
      "source": [
        "<a href=\"https://colab.research.google.com/github/CarinaIR/aprendendo-python/blob/main/ATZ_Python_Brasil_Execicios.ipynb\" target=\"_parent\"><img src=\"https://colab.research.google.com/assets/colab-badge.svg\" alt=\"Open In Colab\"/></a>"
      ]
    },
    {
      "cell_type": "markdown",
      "source": [
        "# Estrutura Sequncial"
      ],
      "metadata": {
        "id": "eVeF2jSZyA5H"
      }
    },
    {
      "cell_type": "markdown",
      "source": [
        "1. Faça um Programa que mostre a mensagem \"Alo mundo\" na tela."
      ],
      "metadata": {
        "id": "4_ECBpqxyOpq"
      }
    },
    {
      "cell_type": "code",
      "source": [
        "print(\"Alo mundo\")"
      ],
      "metadata": {
        "colab": {
          "base_uri": "https://localhost:8080/"
        },
        "id": "rd5eiAcQyWBU",
        "outputId": "1575904d-644c-4043-9655-f394706e9934"
      },
      "execution_count": null,
      "outputs": [
        {
          "output_type": "stream",
          "name": "stdout",
          "text": [
            "Alo mundo\n"
          ]
        }
      ]
    },
    {
      "cell_type": "markdown",
      "source": [
        "2. Faça um Programa que peça um número e então mostre a mensagem O número informado foi [número]."
      ],
      "metadata": {
        "id": "jPmXEs-2y5bC"
      }
    },
    {
      "cell_type": "code",
      "source": [
        "# Variavel n recebendo o numero digitado pelo usuario.\n",
        "n = float(input('Digite um número: '))\n",
        "# Mostrando a mensagem para o usuário.\n",
        "print('O número informado foi:', n)"
      ],
      "metadata": {
        "colab": {
          "base_uri": "https://localhost:8080/"
        },
        "id": "8C7WhLHYy-33",
        "outputId": "ad699dba-9007-4971-a980-19ff75c22590"
      },
      "execution_count": null,
      "outputs": [
        {
          "output_type": "stream",
          "name": "stdout",
          "text": [
            "Digite um número: 1.938\n",
            "O número informado foi: 1.938\n"
          ]
        }
      ]
    },
    {
      "cell_type": "markdown",
      "source": [
        "3. Faça um Programa que peça dois números e imprima a soma."
      ],
      "metadata": {
        "id": "kJ5uzaEu2q4J"
      }
    },
    {
      "cell_type": "code",
      "source": [
        "# Recebendo o primeiro numero\n",
        "numero1 = float(input(\"Digite o primeiro numero: \"))\n",
        "# Recebendo o segundo numero\n",
        "numero2 = float(input(\"Digite o segundo numero: \"))\n",
        "# Somando o numero1 com o numero2\n",
        "soma = numero1 + numero2\n",
        "# Imprimindo a soma\n",
        "print(soma)"
      ],
      "metadata": {
        "colab": {
          "base_uri": "https://localhost:8080/"
        },
        "id": "04d5fM315cU4",
        "outputId": "5e59ca22-5e47-46c6-c43d-0cbbe6850c1c"
      },
      "execution_count": null,
      "outputs": [
        {
          "output_type": "stream",
          "name": "stdout",
          "text": [
            "Digite o primeiro numero: 5\n",
            "Digite o segundo numero: 7\n",
            "12.0\n"
          ]
        }
      ]
    },
    {
      "cell_type": "markdown",
      "source": [
        "4. Faça um Programa que peça as 10 notas bimestrais e mostre a média."
      ],
      "metadata": {
        "id": "b3d59vA0okZv"
      }
    },
    {
      "cell_type": "code",
      "source": [
        "# Receber a primeira nota\n",
        "nota1 = float(input(\"digite a nota1: \"))\n",
        "# Receber a segunda nota\n",
        "nota2 = float(input(\"digite a nota2: \"))\n",
        "# Receber a terceira nota\n",
        "nota3 = float(input(\"digite a nota3: \"))\n",
        "# Receber a quarta nota\n",
        "nota4 = float(input(\"digite a nota4: \"))\n",
        "# Receber a quinta nota\n",
        "nota5 = float(input(\"digite a nota5: \"))\n",
        "# Receber a sexta nota\n",
        "nota6 = float(input(\"digite a nota6: \"))\n",
        "# Receber a setima nota\n",
        "nota7 = float(input(\"digite a nota7: \"))\n",
        "# Receber oitava nota\n",
        "nota8 = float(input(\"digite a nota8: \"))\n",
        "# Receber a nona nota\n",
        "nota9 = float(input(\"digite a nota9: \"))\n",
        "# Receber a decima nota\n",
        "nota10 = float(input(\"digite a nota10: \"))\n",
        "# Calculo da media\n",
        "media = (nota1 + nota2 + nota3 + nota4 + nota5 + nota6 + nota7 + nota8 + nota9 + nota10) / 10\n",
        "# Mostrar a media\n",
        "print(\"A media é: \", media)"
      ],
      "metadata": {
        "id": "firwDzWJo3rD",
        "outputId": "0e4f7f43-40b7-4ca0-deb2-329433326fef",
        "colab": {
          "base_uri": "https://localhost:8080/"
        }
      },
      "execution_count": null,
      "outputs": [
        {
          "output_type": "stream",
          "name": "stdout",
          "text": [
            "digite a nota1: 8.5\n",
            "digite a nota2: 8\n",
            "digite a nota3: 9.5\n",
            "digite a nota4: 7\n",
            "digite a nota5: 6\n",
            "digite a nota6: 9\n",
            "digite a nota7: 5.5\n",
            "digite a nota8: 6\n",
            "digite a nota9: 10\n",
            "digite a nota10: 9\n",
            "a media é:  7.85\n"
          ]
        }
      ]
    },
    {
      "cell_type": "markdown",
      "source": [
        "5. Faça um Programa que converta metros para centímetros."
      ],
      "metadata": {
        "id": "wZTuV5Kap0Ka"
      }
    },
    {
      "cell_type": "code",
      "source": [
        "# Receber valor em metros\n",
        "metros = float(input(\"Digite um valor em metros: \"))\n",
        "# Transformar metros em centimetros\n",
        "centimetros = metros * 100\n",
        "# Mostrar o resultado\n",
        "print(centimetros)"
      ],
      "metadata": {
        "id": "t_ewEZi3p-0W",
        "outputId": "a87df41e-d840-4ade-bdc6-21017b1c1d6d",
        "colab": {
          "base_uri": "https://localhost:8080/"
        }
      },
      "execution_count": null,
      "outputs": [
        {
          "output_type": "stream",
          "name": "stdout",
          "text": [
            "Digite um valor em metros: 8\n",
            "800.0\n"
          ]
        }
      ]
    },
    {
      "cell_type": "markdown",
      "source": [
        "6. Faça um Programa que peça o raio de um círculo, calcule e mostre sua área."
      ],
      "metadata": {
        "id": "QZHR6hYAr81W"
      }
    },
    {
      "cell_type": "code",
      "source": [
        "# Rebendo raio de um circulo\n",
        "raio = float(input(\"Digite o valor do raio: \"))\n",
        "# Declarando o valor de pi\n",
        "PI = 3.14\n",
        "# Calculando a area do circulo\n",
        "area = PI * (raio ** 2)\n",
        "# Mostrando a area do circulo\n",
        "print(area)\n"
      ],
      "metadata": {
        "id": "VRB-UMzKsGqw",
        "outputId": "14f26c5c-c568-4652-a82f-b750159efd9e",
        "colab": {
          "base_uri": "https://localhost:8080/"
        }
      },
      "execution_count": null,
      "outputs": [
        {
          "output_type": "stream",
          "name": "stdout",
          "text": [
            "Digite o valor do raio: 3\n",
            "28.26\n"
          ]
        }
      ]
    },
    {
      "cell_type": "markdown",
      "source": [
        " 7. Tendo como dados de entrada a altura de uma pessoa, construa um algoritmo que calcule seu peso ideal, usando a seguinte fórmula: (72.7*altura) - 58\n",
        "Tendo como dado de entrada a altura (h) de uma pessoa, construa um algoritmo que calcule seu peso ideal, utilizando as seguintes fórmulas:\n",
        "\n",
        "    - Para homens: (72.7*h) - 58\n",
        "    - Para mulheres: (62.1*h) - 44.7 "
      ],
      "metadata": {
        "id": "ZK7NCguz_56X"
      }
    },
    {
      "cell_type": "code",
      "source": [
        "# Recebendo a altura da pessoa\n",
        "altura = float(input(\"Digite a altura: \"))\n",
        "# Calculando o peso ideal\n",
        "homem = (72.7 * altura) - 58\n",
        "mulher = (62.1 * altura) - 44.7\n",
        "# Mostrando o resultado\n",
        "print(\"homem: \", homem)\n",
        "print(\"mulher: \", mulher)\n"
      ],
      "metadata": {
        "colab": {
          "base_uri": "https://localhost:8080/"
        },
        "id": "QJ5I5BSyAYpV",
        "outputId": "1745fa6d-8f9e-4dfd-8e5f-7bd6f23440b2"
      },
      "execution_count": 3,
      "outputs": [
        {
          "output_type": "stream",
          "name": "stdout",
          "text": [
            "Digite a altura: 1.59\n",
            "homem:  57.593\n",
            "mulher:  54.039\n"
          ]
        }
      ]
    }
  ]
}