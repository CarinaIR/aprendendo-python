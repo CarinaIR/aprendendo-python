{
  "nbformat": 4,
  "nbformat_minor": 0,
  "metadata": {
    "colab": {
      "name": "Resumo-Python.ipynb",
      "provenance": [],
      "authorship_tag": "ABX9TyOs95HYdoU9impvwPFuLpKs",
      "include_colab_link": true
    },
    "kernelspec": {
      "name": "python3",
      "display_name": "Python 3"
    },
    "language_info": {
      "name": "python"
    }
  },
  "cells": [
    {
      "cell_type": "markdown",
      "metadata": {
        "id": "view-in-github",
        "colab_type": "text"
      },
      "source": [
        "<a href=\"https://colab.research.google.com/github/CarinaIR/aprendendo-python/blob/main/Resumo_Python.ipynb\" target=\"_parent\"><img src=\"https://colab.research.google.com/assets/colab-badge.svg\" alt=\"Open In Colab\"/></a>"
      ]
    },
    {
      "cell_type": "markdown",
      "source": [
        "# Resumo Python"
      ],
      "metadata": {
        "id": "ofNvEKVkFxwF"
      }
    },
    {
      "cell_type": "markdown",
      "source": [
        "Este apresenta as principais caracteriscas da linguagem de programação Python. "
      ],
      "metadata": {
        "id": "tKuX5ugRF8xY"
      }
    },
    {
      "cell_type": "markdown",
      "source": [
        "## Declaração de Variaveis"
      ],
      "metadata": {
        "id": "QrxC2lolGPDH"
      }
    },
    {
      "cell_type": "code",
      "source": [
        "# nome da variavel = valor da variavel\n",
        "#Exemplo\n",
        "nome = \"Juan\"\n",
        "resultado = 32\n",
        "taxa = 4.5\n"
      ],
      "metadata": {
        "id": "eAWdulcoGYgm"
      },
      "execution_count": null,
      "outputs": []
    },
    {
      "cell_type": "markdown",
      "source": [
        "## Tipos de variavel\n"
      ],
      "metadata": {
        "id": "dYYnqAaJG2p8"
      }
    },
    {
      "cell_type": "code",
      "source": [
        "# Tipo inteiro\n",
        "numero = 100\n",
        "\n",
        "# Tipo float\n",
        "taxa = 30.43\n",
        "\n",
        "# Tipo String (texto)\n",
        "nome = \"Juana\""
      ],
      "metadata": {
        "id": "dMyf2ijwG6FW"
      },
      "execution_count": null,
      "outputs": []
    },
    {
      "cell_type": "markdown",
      "source": [
        "## Escrevendo dados\n",
        "usando a função print()"
      ],
      "metadata": {
        "id": "ducog455G2Lq"
      }
    },
    {
      "cell_type": "code",
      "source": [
        "# Primeiro programa\n",
        "print(\"Hello World\")"
      ],
      "metadata": {
        "colab": {
          "base_uri": "https://localhost:8080/"
        },
        "id": "fQjNQpbzHg2X",
        "outputId": "bdfb3088-41e7-4733-b77e-efbb60753591"
      },
      "execution_count": null,
      "outputs": [
        {
          "output_type": "stream",
          "name": "stdout",
          "text": [
            "Hello World\n"
          ]
        }
      ]
    },
    {
      "cell_type": "code",
      "source": [
        "# Programa para somar 2 valores inteiros\n",
        "numero1 = 300\n",
        "numero2 = 123\n",
        "# declarando a variavel que guardará o valor da soma\n",
        "soma = numero1 + numero2\n",
        "print(soma)"
      ],
      "metadata": {
        "colab": {
          "base_uri": "https://localhost:8080/"
        },
        "id": "kzkEG7jDHqZH",
        "outputId": "d8c09d45-58c2-4dd1-b5c3-f84015165e1e"
      },
      "execution_count": null,
      "outputs": [
        {
          "output_type": "stream",
          "name": "stdout",
          "text": [
            "423\n"
          ]
        }
      ]
    },
    {
      "cell_type": "markdown",
      "source": [
        "## Operações aritiméticas"
      ],
      "metadata": {
        "id": "jLoLeDV6IgGU"
      }
    },
    {
      "cell_type": "code",
      "source": [
        "# Somando\n",
        "x = 1234567\n",
        "y = 987652\n",
        "soma = x + y\n",
        "print(soma)"
      ],
      "metadata": {
        "colab": {
          "base_uri": "https://localhost:8080/"
        },
        "id": "1owdwSZPImrt",
        "outputId": "a8e9d3bc-1bd8-4a95-bc2a-727f74fa5a35"
      },
      "execution_count": null,
      "outputs": [
        {
          "output_type": "stream",
          "name": "stdout",
          "text": [
            "2222219\n"
          ]
        }
      ]
    },
    {
      "cell_type": "code",
      "source": [
        "# Subtraindo\n",
        "a = 123456789\n",
        "b = 9876\n",
        "subtracao = a - b\n",
        "print(subtracao)"
      ],
      "metadata": {
        "colab": {
          "base_uri": "https://localhost:8080/"
        },
        "id": "Iqj9YLQ7Izp3",
        "outputId": "46fcbdb0-6795-4f5a-c0eb-9281eb542f6e"
      },
      "execution_count": null,
      "outputs": [
        {
          "output_type": "stream",
          "name": "stdout",
          "text": [
            "123446913\n"
          ]
        }
      ]
    },
    {
      "cell_type": "code",
      "source": [
        "# Multiplicando\n",
        "z = 123\n",
        "w = 21\n",
        "multiplicacao = z * w\n",
        "print(multiplicacao)"
      ],
      "metadata": {
        "colab": {
          "base_uri": "https://localhost:8080/"
        },
        "id": "JEQ5ihEzJBcq",
        "outputId": "44fe0266-ddbe-44ed-966b-b67a1bd9b113"
      },
      "execution_count": null,
      "outputs": [
        {
          "output_type": "stream",
          "name": "stdout",
          "text": [
            "2583\n"
          ]
        }
      ]
    },
    {
      "cell_type": "code",
      "source": [
        "# Dividindo\n",
        "c = 81\n",
        "d = 79\n",
        "divisao = c / d\n",
        "print(divisao)\n",
        "# usando a funçao int()\n",
        "print(int(divisao))"
      ],
      "metadata": {
        "colab": {
          "base_uri": "https://localhost:8080/"
        },
        "id": "lfy9VWx9JToU",
        "outputId": "8ae6515e-eac3-4dbe-91ad-76dc7436dec3"
      },
      "execution_count": null,
      "outputs": [
        {
          "output_type": "stream",
          "name": "stdout",
          "text": [
            "1.0253164556962024\n",
            "1\n"
          ]
        }
      ]
    },
    {
      "cell_type": "code",
      "source": [
        "# Calculando o resto da divisao\n",
        "c = 11\n",
        "d = 8\n",
        "divisao = c % d\n",
        "print(divisao)\n",
        "# usando a funçao int()\n",
        "#print(int(divisao))"
      ],
      "metadata": {
        "colab": {
          "base_uri": "https://localhost:8080/"
        },
        "id": "y2J6E9FWKcQ0",
        "outputId": "fc6271a5-75e2-4447-bc17-f846af8005b7"
      },
      "execution_count": null,
      "outputs": [
        {
          "output_type": "stream",
          "name": "stdout",
          "text": [
            "3\n"
          ]
        }
      ]
    },
    {
      "cell_type": "code",
      "source": [
        "# Potenciação\n",
        "x = 7 ** 2\n",
        "print(x)"
      ],
      "metadata": {
        "colab": {
          "base_uri": "https://localhost:8080/"
        },
        "id": "VlCFyj7ALRlt",
        "outputId": "97f20b00-74aa-4dff-acfd-6adf294a744a"
      },
      "execution_count": null,
      "outputs": [
        {
          "output_type": "stream",
          "name": "stdout",
          "text": [
            "49\n"
          ]
        }
      ]
    },
    {
      "cell_type": "markdown",
      "source": [
        ""
      ],
      "metadata": {
        "id": "Ayv8T4bVIfjs"
      }
    },
    {
      "cell_type": "markdown",
      "source": [
        ""
      ],
      "metadata": {
        "id": "B-N_9fm5F4kD"
      }
    }
  ]
}